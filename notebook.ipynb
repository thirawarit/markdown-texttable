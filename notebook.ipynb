{
 "cells": [
  {
   "cell_type": "code",
   "execution_count": 1,
   "id": "79ad0faf",
   "metadata": {},
   "outputs": [],
   "source": [
    "%load_ext autoreload\n",
    "%autoreload 2\n",
    "%config HistoryManager.enabled = False"
   ]
  },
  {
   "cell_type": "code",
   "execution_count": 12,
   "id": "6f0dfb39",
   "metadata": {},
   "outputs": [
    {
     "name": "stdout",
     "output_type": "stream",
     "text": [
      "|         Name Of Person        | Age | Nickname | Student ID |\n",
      "|:------------------------------|----:|:--------:|:----------:|\n",
      "| คุณ ธิรวริทธิ์<br>ปิติพิพัฒน์ |  32 |   Xav'   |            |\n",
      "|   Mr<br>Baptiste<br>Clement   |  1  |   Baby   |            |\n"
     ]
    },
    {
     "data": {
      "text/markdown": [
       "|         Name Of Person        | Age | Nickname | Student ID |\n",
       "|:------------------------------|----:|:--------:|:----------:|\n",
       "| คุณ ธิรวริทธิ์<br>ปิติพิพัฒน์ |  32 |   Xav'   |            |\n",
       "|   Mr<br>Baptiste<br>Clement   |  1  |   Baby   |            |"
      ]
     },
     "metadata": {},
     "output_type": "display_data"
    }
   ],
   "source": [
    "from src.modify_texttable import ModifiedTexttable\n",
    "\n",
    "table = ModifiedTexttable()\n",
    "table.set_cols_align([\"l\", \"r\", \"c\", \"c\"])\n",
    "table.set_chars(['-', '|', '|', '-'])\n",
    "table.add_header(\n",
    "    [\"Name Of Person\", \"Age\", \"Nickname\", \"Student ID\"]\n",
    ")\n",
    "table.add_rows(\n",
    "    [\n",
    "        [\"Name Of Person\", \"Age\", \"Nickname\", \"Student ID\"],\n",
    "        [\"คุณ ธิรวริทธิ์\\nปิติพิพัฒน์\", 32, \"Xav'\", \"\"],\n",
    "        [\"Mr\\nBaptiste\\nClement\", 1, \"Baby\", \"\"],\n",
    "    ], \n",
    "    header=True,\n",
    ")\n",
    "print(table.draw())\n",
    "display_markdown(table.draw(), raw=True)"
   ]
  }
 ],
 "metadata": {
  "kernelspec": {
   "display_name": ".venv",
   "language": "python",
   "name": "python3"
  },
  "language_info": {
   "codemirror_mode": {
    "name": "ipython",
    "version": 3
   },
   "file_extension": ".py",
   "mimetype": "text/x-python",
   "name": "python",
   "nbconvert_exporter": "python",
   "pygments_lexer": "ipython3",
   "version": "3.10.17"
  }
 },
 "nbformat": 4,
 "nbformat_minor": 5
}
